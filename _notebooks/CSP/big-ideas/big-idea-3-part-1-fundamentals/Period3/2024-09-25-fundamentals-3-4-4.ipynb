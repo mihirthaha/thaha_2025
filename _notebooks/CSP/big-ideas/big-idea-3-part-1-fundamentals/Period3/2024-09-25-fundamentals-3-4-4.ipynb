{
 "cells": [
  {
   "cell_type": "raw",
   "metadata": {
    "vscode": {
     "languageId": "raw"
    }
   },
   "source": [
    "---\n",
    "toc: false\n",
    "comments: true\n",
    "layout: post\n",
    "title: 3.4.4 Javascript Hacks\n",
    "description: These are the hacks students are required to complete to demonstrate understanding of the content.\n",
    "permalink: /csp/big-idea/p3/3-4-4\n",
    "categories: [CSP Big Ideas]\n",
    "author:  Ahaan, Spencer, Vasanth, Xavier\n",
    "menu: nav/csp_units/csp_unit3_p3_fundamentals.html\n",
    "---"
   ]
  },
  {
   "cell_type": "markdown",
   "metadata": {},
   "source": [
    "## Hack 1\n",
    "A student was instructed to provide a list of ALL the countries in Africa. Your task is to now convert the list, which is provided as a string and convert it to an array.\n",
    "\n",
    "String:\n",
    "\"Algeria, Angola, Benin, Botswana, Burkina Faso, Burundi, Cabo Verde, Cameroon, Central African Republic, Chad, Comoros, Congo (Congo-Brazzaville), Cote d'Ivoire, Djibouti, DR Congo (Congo-Kinshasa), Egypt, Equatorial Guinea, Eritrea, Eswatini, Ethiopia, Gabon, Gambia, Ghana, Guinea, Guinea-Bissau, Kenya, Lesotho, Liberia, Libya, Madagascar, Malawi, Mali, Mauritania, Mauritius, Morocco, Mozambique, Namibia, Niger, Nigeria, Rwanda, Sao Tome and Principe, Senegal, Seychelles, Sierra Leone, Somalia, South Africa, South Sudan, Sudan, Tanzania, Togo, Tunisia, Uganda, Zambia, Zimbabwe\"\n",
    "\n",
    "**You must complete this hack using a string method**"
   ]
  },
  {
   "cell_type": "markdown",
   "metadata": {},
   "source": [
    "## Hack 2\n",
    "Applications that are more personalized are always great to have! Please create a program that prompts the user for their name, age, favorite food, & favorite book. Store all these prompts as variables and then use concatenation or interpolation to make a cohesive message out of these prompts.\n",
    "\n",
    "To get you started, here's how you can prompt someone in JavaScript: ```prompt(\"Please enter your name\")```"
   ]
  },
  {
   "cell_type": "markdown",
   "metadata": {},
   "source": [
    "## Hack 3\n",
    "\n",
    "### Part 1\n",
    "We received this message from a noisy audio file: `\"The...secret...to...life...is...(redacted)\"`\n",
    "\n",
    "There seems to be white noise in between words. Please remove the `...` between the words using a string method.\n",
    "\n",
    "Expected output: \"The secret to life is (redacted)\"\n",
    "\n",
    "\n",
    "### Part 2\n",
    "Once you figure out how to remove this white noise, we should create a program to remove it from any file! Please create a program that takes user input and can remove the ... that may or may not be in the input.\n",
    "\n",
    "Example input & output:\n",
    "- Input: `Hello...World`\n",
    "- Output: `Hello World`\n"
   ]
  }
 ],
 "metadata": {
  "language_info": {
   "name": "python"
  }
 },
 "nbformat": 4,
 "nbformat_minor": 2
}
