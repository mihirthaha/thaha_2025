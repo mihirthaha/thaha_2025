{
 "cells": [
  {
   "cell_type": "raw",
   "metadata": {
    "vscode": {
     "languageId": "raw"
    }
   },
   "source": [
    "---\n",
    "toc: false\n",
    "comments: true\n",
    "layout: post\n",
    "title: 3.1 Variable Introduction\n",
    "description: Introduction to Variables\n",
    "permalink: /csp/big-idea/p3/3-1-0\n",
    "categories: [CSP Big Ideas]\n",
    "author:  Ahaan, Spencer, Vasanth, Xavier\n",
    "menu: nav/csp_units/csp_unit3_p3_fundamentals.html\n",
    "---"
   ]
  },
  {
   "cell_type": "markdown",
   "metadata": {},
   "source": [
    "## Introduction to Variables \n",
    "\n",
    "A variable is a placeholder or container used to store information in a program. It allows you to label data with a descriptive name so you can refer to it later in your code. Variables can hold different types of data, such as numbers, text, or more complex structures, and they can be changed or updated throughout the program. They help make code more readable and easier to manage. In this lesson, we will explore and learn about how and when to use variables in Javascript and Python.  "
   ]
  }
 ],
 "metadata": {
  "kernelspec": {
   "display_name": "venv",
   "language": "python",
   "name": "python3"
  },
  "language_info": {
   "codemirror_mode": {
    "name": "ipython",
    "version": 3
   },
   "file_extension": ".py",
   "mimetype": "text/x-python",
   "name": "python",
   "nbconvert_exporter": "python",
   "pygments_lexer": "ipython3",
   "version": "3.12.6"
  }
 },
 "nbformat": 4,
 "nbformat_minor": 2
}
