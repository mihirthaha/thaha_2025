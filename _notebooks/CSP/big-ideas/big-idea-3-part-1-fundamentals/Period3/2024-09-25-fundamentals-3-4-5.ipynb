{
 "cells": [
  {
   "cell_type": "raw",
   "metadata": {
    "vscode": {
     "languageId": "raw"
    }
   },
   "source": [
    "---\n",
    "toc: false\n",
    "comments: true\n",
    "layout: post\n",
    "title: 3.4.5 Grading Policy\n",
    "description: Rubric for how the homework will be graded\n",
    "permalink: /csp/big-idea/p3/3-4-5\n",
    "categories: [CSP Big Ideas]\n",
    "author:  Ahaan, Spencer, Vasanth, Xavier\n",
    "menu: nav/csp_units/csp_unit3_p3_fundamentals.html\n",
    "---"
   ]
  },
  {
   "cell_type": "markdown",
   "metadata": {},
   "source": [
    "<table>\n",
    "  <tr>\n",
    "    <th>Criteria</th>\n",
    "    <th>4+ (95%)</th>\n",
    "    <th>4 (90%)</th>\n",
    "    <th>3 (83.33%)</th>\n",
    "    <th>2 (66.67%)</th>\n",
    "    <th>1 (50%)</th>\n",
    "  </tr>\n",
    "  <tr>\n",
    "    <td><strong>Code Functionality</strong></td>\n",
    "    <td>Code exceeds expectations with extra features or enhancements.</td>\n",
    "    <td>Code runs flawlessly and meets all the project requirements.</td>\n",
    "    <td>Code runs with minor bugs but meets most project requirements.</td>\n",
    "    <td>Code runs with significant bugs, meeting some requirements.</td>\n",
    "    <td>Code does not run or fails to meet project requirements.</td>\n",
    "  </tr>\n",
    "  <tr>\n",
    "    <td><strong>Code Efficiency</strong></td>\n",
    "    <td>Code is highly optimized with zero redundancy.</td>\n",
    "    <td>Code is efficient with minimal redundancy.</td>\n",
    "    <td>Code is generally efficient, but with some inefficiencies.</td>\n",
    "    <td>Code has several inefficiencies or redundant parts.</td>\n",
    "    <td>Code is highly inefficient, with poor logic and excessive redundancy.</td>\n",
    "  </tr>\n",
    "  <tr>\n",
    "    <td><strong>Creativity and Innovation</strong></td>\n",
    "    <td>Exceptional creativity with novel problem-solving approaches.</td>\n",
    "    <td>Demonstrates good creativity with unique ideas.</td>\n",
    "    <td>Shows some creativity but relies on standard approaches.</td>\n",
    "    <td>Lacks significant creativity, using common solutions.</td>\n",
    "    <td>Lacks creativity, using basic or pre-existing solutions.</td>\n",
    "  </tr>\n",
    "  <tr>\n",
    "    <td><strong>Documentation and Comments</strong></td>\n",
    "    <td>Code is excellently documented with clear, detailed comments throughout.</td>\n",
    "    <td>Code is well-documented with adequate comments.</td>\n",
    "    <td>Limited documentation with comments for only some parts.</td>\n",
    "    <td>Documentation is sparse, with few explanations.</td>\n",
    "    <td>No documentation or comments, making the code difficult to understand.</td>\n",
    "  </tr>\n",
    "</table>\n"
   ]
  },
  {
   "cell_type": "markdown",
   "metadata": {},
   "source": [
    "### Weightage\n",
    "This is how much each section is weighted (percent wise)\n",
    "<table>\n",
    "  <tr>\n",
    "    <th><strong>Criteria</strong></th>\n",
    "    <th><strong>Weight</strong></th>\n",
    "  </tr>\n",
    "  <tr>\n",
    "    <td><strong>Code Functionality</strong></td>\n",
    "    <td>40%</td>\n",
    "  </tr>\n",
    "  <tr>\n",
    "    <td><strong>Code Efficiency</strong></td>\n",
    "    <td>25%</td>\n",
    "  </tr>\n",
    "  <tr>\n",
    "    <td><strong>Creativity and Innovation</strong></td>\n",
    "    <td>20%</td>\n",
    "  </tr>\n",
    "  <tr>\n",
    "    <td><strong>Documentation and Comments</strong></td>\n",
    "    <td>15%</td>\n",
    "  </tr>\n",
    "</table>\n"
   ]
  },
  {
   "cell_type": "markdown",
   "metadata": {},
   "source": [
    "### Grading Example\n",
    "\n",
    "Let's say a student receives the following scores:\n",
    "- **Code Functionality**: 4+ (out of 4)\n",
    "- **Code Efficiency**: 2 (out of 4)\n",
    "- **Creativity and Innovation**: 4 (out of 4)\n",
    "- **Documentation and Comments**: 3 (out of 4)\n",
    "\n",
    "#### Steps to Grade\n",
    "\n",
    "1. **Code Functionality (Weight: 40%)**:  \n",
    "   - Score: 4+ = 95%  \n",
    "   - 95% of 40 = 0.95 × 40 = **38 points**\n",
    "\n",
    "2. **Code Efficiency (Weight: 25%)**:  \n",
    "   - Score: 2/4 = 66.67%  \n",
    "   - 66.67% of 25 = 0.6667 × 25 = **16.67 points**\n",
    "\n",
    "3. **Creativity and Innovation (Weight: 20%)**:  \n",
    "   - Score: 4/4 = 90%  \n",
    "   - 90% of 20 = 0.90 × 20 = **18 points**\n",
    "\n",
    "4. **Documentation and Comments (Weight: 15%)**:  \n",
    "   - Score: 3/4 = 83.33%  \n",
    "   - 83.33% of 15 = 0.8333 × 15 = **12.5 points**\n",
    "\n",
    "#### Final Grade\n",
    "- **Total points**: 38 + 16.67 + 18 + 12.5 = **85.17 points out of 100**\n"
   ]
  }
 ],
 "metadata": {
  "language_info": {
   "name": "python"
  }
 },
 "nbformat": 4,
 "nbformat_minor": 2
}
