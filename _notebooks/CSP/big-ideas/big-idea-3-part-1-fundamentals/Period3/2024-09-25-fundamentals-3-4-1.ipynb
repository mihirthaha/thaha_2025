{
 "cells": [
  {
   "cell_type": "raw",
   "metadata": {
    "vscode": {
     "languageId": "raw"
    }
   },
   "source": [
    "---\n",
    "toc: false\n",
    "comments: true\n",
    "layout: post\n",
    "title: 3.4.1 Python Strings\n",
    "description: This is student-led teaching on strings. You'll learn important skills in Big Idea 3 required by college board.\n",
    "permalink: /csp/big-idea/p3/3-4-1\n",
    "categories: [CSP Big Ideas]\n",
    "author:  Ahaan, Spencer, Vasanth, Xavier\n",
    "menu: nav/csp_units/csp_unit3_p3_fundamentals.html\n",
    "---"
   ]
  },
  {
   "cell_type": "markdown",
   "metadata": {},
   "source": [
    "## Introduction to Strings\n",
    "Strings in Python & in programming languages in general are a way of storing data that is text."
   ]
  },
  {
   "cell_type": "markdown",
   "metadata": {},
   "source": [
    "Strings are always surrounded with single or double quotes. Both have the same effect, but stick with the one you choose to use."
   ]
  },
  {
   "cell_type": "code",
   "execution_count": 35,
   "metadata": {},
   "outputs": [
    {
     "name": "stdout",
     "output_type": "stream",
     "text": [
      "Welcome\n",
      "Hello!\n",
      "124\n"
     ]
    }
   ],
   "source": [
    "print(\"Welcome\")\n",
    "print(\"Hello!\")\n",
    "print(\"124\")"
   ]
  },
  {
   "cell_type": "markdown",
   "metadata": {},
   "source": [
    "Did you see that? We can have numbers as strings too! So long as a number is encapsulated in quotations, then it's considered to be a str and not a int or a float, which are the data types usually associated to numbers."
   ]
  },
  {
   "cell_type": "markdown",
   "metadata": {},
   "source": [
    "### Popcorn Hack 1\n",
    "\n",
    "This will be the first popcorn hack worth 25 on your grade on this lesson. Each Popcorn hack is 25%\n",
    "\n",
    "-Create three strings in python and print your result\n",
    "-Reflect, did you have any errors?"
   ]
  },
  {
   "cell_type": "markdown",
   "metadata": {},
   "source": [
    "### Concatenation\n",
    "One of the main things that can be done with strings is connecting them together, formally known as concatenation."
   ]
  },
  {
   "cell_type": "code",
   "execution_count": 36,
   "metadata": {},
   "outputs": [
    {
     "name": "stdout",
     "output_type": "stream",
     "text": [
      "Hello, World!\n",
      "123\n"
     ]
    }
   ],
   "source": [
    "print(\"Hello, \" + \"World!\")\n",
    "print(\"1\" + \"2\" + \"3\")"
   ]
  },
  {
   "cell_type": "markdown",
   "metadata": {},
   "source": [
    "While in the examples above, the reason why we would concatenate isn't made clear, the reason concatenation is so useful is when we have two or more variables that may not be statically defined, we can combine them together to form a cohesive string."
   ]
  },
  {
   "cell_type": "code",
   "execution_count": 37,
   "metadata": {},
   "outputs": [
    {
     "name": "stdout",
     "output_type": "stream",
     "text": [
      "Your name is: Ahaan Vaidyanathan\n"
     ]
    }
   ],
   "source": [
    "x = input(\"What's your first name?\")\n",
    "y = input(\"what's your last name?\")\n",
    "print(\"Your name is: \" + x + \" \" + y)"
   ]
  },
  {
   "cell_type": "markdown",
   "metadata": {},
   "source": [
    "### Popcorn Hack 2\n",
    "\n",
    "- Try the string concatenation with your own name!\n",
    "- Change/add more about yourself as a challenge to you concatenation"
   ]
  },
  {
   "cell_type": "markdown",
   "metadata": {},
   "source": [
    "### Repetition / Multiplication\n",
    "A really cool feature of python that isn't avaliable in other languages is it's ability to multiply strings like you would with an integer."
   ]
  },
  {
   "cell_type": "code",
   "execution_count": 38,
   "metadata": {},
   "outputs": [
    {
     "name": "stdout",
     "output_type": "stream",
     "text": [
      "GreenGreenGreen\n"
     ]
    }
   ],
   "source": [
    "#Repetition\n",
    "color = \"Green\"\n",
    "repeat_color = color * 3\n",
    "print(repeat_color)"
   ]
  },
  {
   "cell_type": "markdown",
   "metadata": {},
   "source": [
    "The usage of multiplying text in Python isn't used in most circumstances, but when it comes to making something artistic of out text (ASCII Art), then this feature of python may come in handy later on."
   ]
  },
  {
   "cell_type": "markdown",
   "metadata": {},
   "source": [
    "### Indexing\n",
    "Indexing is the process of accessing a specific char (or sequence of chars) in a string. Each character in a string is assigned two numbers that is used to identify its position in a string. Take the following string:\n",
    "\n",
    "\"HELLO\"\n",
    "> When indexing, it's best to look at HELLO from its constituent parts.\n",
    "\n",
    "```\n",
    "['H'] ['E'] ['L'] ['L'] ['O']\n",
    "```\n",
    "\n",
    "Intutively, we would imagine that H would be assigned 1 as its the first character, however an important fact to note is in programming, we start counting at 0. So H would be assigned 0, E would be assigned 1, and so on."
   ]
  },
  {
   "cell_type": "code",
   "execution_count": 39,
   "metadata": {},
   "outputs": [
    {
     "name": "stdout",
     "output_type": "stream",
     "text": [
      "H\n",
      "O\n",
      "L\n",
      "E\n"
     ]
    }
   ],
   "source": [
    "# Stored String\n",
    "greeting = \"HELLO\"\n",
    "\n",
    "#Indexes\n",
    "print(greeting[0])\n",
    "print(greeting[4])\n",
    "print(greeting[3])\n",
    "print(greeting[1])"
   ]
  },
  {
   "cell_type": "markdown",
   "metadata": {},
   "source": [
    "However, as mentioned before, characters in a string are assigned two numbers which can be used to index them from the string. Positive numbers & negative ones. The negative ones allow you to start at the end of the string instead."
   ]
  },
  {
   "cell_type": "code",
   "execution_count": 40,
   "metadata": {},
   "outputs": [
    {
     "name": "stdout",
     "output_type": "stream",
     "text": [
      "O\n",
      "H\n"
     ]
    }
   ],
   "source": [
    "# Stored String\n",
    "greeting = \"HELLO\"\n",
    "\n",
    "print(greeting[-1])\n",
    "print(greeting[-5])"
   ]
  },
  {
   "cell_type": "markdown",
   "metadata": {},
   "source": [
    "<!-- #### HACK #1\n",
    "Use the ability to index strings to create a program that checks whether or not a word is a palindrome.\n",
    "\n",
    "Expected outputs:\n",
    "- If Palindrome: True\n",
    "- If not Palindrome: False -->"
   ]
  },
  {
   "cell_type": "markdown",
   "metadata": {},
   "source": [
    "### String Slicing\n",
    "String slicing is a expanded version of indexing, which instead of taking only one character, we can take multiple characters in a string.\n",
    "\n",
    "Bellow illustrates how this can be done:"
   ]
  },
  {
   "cell_type": "code",
   "execution_count": 41,
   "metadata": {},
   "outputs": [
    {
     "name": "stdout",
     "output_type": "stream",
     "text": [
      "Hydro\n"
     ]
    }
   ],
   "source": [
    "element = \"Hydrogen\"\n",
    "print(element[0:5])"
   ]
  },
  {
   "cell_type": "markdown",
   "metadata": {},
   "source": [
    "To index a section you begin with the starting character (0) and end with the index of the last character + 1.\n",
    "\n",
    "In this case of 0:5, 0 is inclusive (the character with index 0 is included), while 5 is exclusive (the character with index 5 is excluded). So that's why the character , \"g\" which has an index of 5 isn't included despite being a part of the slice 0:5\n",
    "\n",
    "This is essentially the basics in which you can do to index anything but there are some important concepts to note:"
   ]
  },
  {
   "cell_type": "code",
   "execution_count": 42,
   "metadata": {},
   "outputs": [
    {
     "name": "stdout",
     "output_type": "stream",
     "text": [
      "Lithium\n",
      "muihtiL\n",
      "ihu\n"
     ]
    }
   ],
   "source": [
    "element = \"Lithium\"\n",
    "\n",
    "# Specify an entire String\n",
    "print(element[:])\n",
    "\n",
    "# Reverse a String\n",
    "print(element[::-1])\n",
    "\n",
    "# Indexing a character after every x number of characters\n",
    "print(element[1::2])\n"
   ]
  },
  {
   "cell_type": "markdown",
   "metadata": {},
   "source": [
    "### String Methods\n",
    "String Methods are functions that can change or manipulate a string in a variety of ways.\n",
    "\n",
    "Here are some common methods:"
   ]
  },
  {
   "cell_type": "code",
   "execution_count": 3,
   "metadata": {},
   "outputs": [
    {
     "name": "stdout",
     "output_type": "stream",
     "text": [
      "Vasanth\n",
      "VASANTH\n",
      "vasanth\n",
      "7\n",
      "dEMOCRATIC rEPUBLIC OF THE cONGO\n"
     ]
    }
   ],
   "source": [
    "name = \"vasanth\"\n",
    "country = \"Democratic Republic of the Congo\"\n",
    "\n",
    "# Capitalizes first letter\n",
    "print(name.capitalize())\n",
    "\n",
    "# UPPERCASE string\n",
    "print(name.upper())\n",
    "\n",
    "# lowercase string\n",
    "print(name.lower())\n",
    "\n",
    "# Count # of characters in string\n",
    "print(len(name))\n",
    "\n",
    "# # swaps the case of all characters in the string\n",
    "# upper case character to lowercase and viceversa\n",
    "print(country.swapcase())"
   ]
  },
  {
   "cell_type": "markdown",
   "metadata": {},
   "source": [
    "There are many more strings methods that can be utilized, many of which that can be found on external sites."
   ]
  }
 ],
 "metadata": {
  "kernelspec": {
   "display_name": "Python 3 (ipykernel)",
   "language": "python",
   "name": "python3"
  },
  "language_info": {
   "codemirror_mode": {
    "name": "ipython",
    "version": 3
   },
   "file_extension": ".py",
   "mimetype": "text/x-python",
   "name": "python",
   "nbconvert_exporter": "python",
   "pygments_lexer": "ipython3",
   "version": "3.10.12"
  }
 },
 "nbformat": 4,
 "nbformat_minor": 2
}
