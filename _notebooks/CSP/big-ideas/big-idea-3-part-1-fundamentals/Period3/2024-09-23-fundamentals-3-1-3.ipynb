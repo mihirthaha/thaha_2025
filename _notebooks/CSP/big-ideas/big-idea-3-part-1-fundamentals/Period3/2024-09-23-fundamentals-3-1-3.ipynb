{
 "cells": [
  {
   "cell_type": "raw",
   "metadata": {
    "vscode": {
     "languageId": "raw"
    }
   },
   "source": [
    "---\n",
    "toc: false\n",
    "comments: true\n",
    "layout: post\n",
    "title: 3.1.3 Javascript Variables\n",
    "description: This lesson is about how variables work in javascript.\n",
    "permalink: /csp/big-idea/p3/3-1-3\n",
    "categories: [CSP Big Ideas]\n",
    "author:  Ahaan, Spencer, Vasanth, Xavier\n",
    "menu: nav/csp_units/csp_unit3_p3_fundamentals.html\n",
    "---"
   ]
  },
  {
   "cell_type": "markdown",
   "metadata": {},
   "source": [
    "### Variables\n",
    "Variables are containers that are used to store data in programming languages. In JavaScript there are 3 ways to declare a variable.\n",
    "1. var\n",
    "2. let\n",
    "3. const\n",
    "\n",
    "var is an outdated way of declaring variables, and so we will disregard teaching it as you will only use let and const.\n",
    "\n",
    "Const: Use when the variable shouldn't be reassigned.\n",
    "Let: Use when the variable's value may change over time."
   ]
  },
  {
   "cell_type": "code",
   "execution_count": null,
   "metadata": {
    "vscode": {
     "languageId": "javascript"
    }
   },
   "outputs": [],
   "source": [
    "%%js\n",
    "\n",
    "//Pi and user variables don't change\n",
    "const pi = 3.14159265358979;\n",
    "const user = \"Spencer\";\n",
    "\n",
    "//Count variable is being updated\n",
    "let count = 0;\n",
    "for (let i = 0; i < 10; i++) {\n",
    "    console.log(i)\n",
    "}"
   ]
  },
  {
   "cell_type": "markdown",
   "metadata": {},
   "source": [
    "### Assignment Operator\n",
    "JavaScript's assignment operator is equal (=) which assigns the value of the thing to the right to equal the variable to the left. The equal sign shouldn't be confused as equality, as it's exclusively reserved for assignment in programming languages.\n",
    "\n",
    "> **==** is used to test equality between two things"
   ]
  },
  {
   "cell_type": "code",
   "execution_count": null,
   "metadata": {
    "vscode": {
     "languageId": "javascript"
    }
   },
   "outputs": [],
   "source": [
    "%%js \n",
    "let x = 5\n",
    "let y = 3\n",
    "let z = 2"
   ]
  },
  {
   "cell_type": "markdown",
   "metadata": {
    "vscode": {
     "languageId": "javascript"
    }
   },
   "source": [
    "### Variable Naming\n",
    "There are some limitations when it comes to naming variables in JavaScript\n",
    "1. The name can only contain letters, digits, or the symbols $ and _.\n",
    "2. The variable musn't start with a digit\n",
    "\n",
    "Examples of valid & invalid variable names:"
   ]
  },
  {
   "cell_type": "code",
   "execution_count": null,
   "metadata": {
    "vscode": {
     "languageId": "javascript"
    }
   },
   "outputs": [],
   "source": [
    "%%js \n",
    "\n",
    "//Valid variable names\n",
    "let color;\n",
    "let _favoriteColor;\n",
    "\n",
    "//Invalid  variable names\n",
    "let 123badVariable;\n",
    "let my-age;\n",
    "\n"
   ]
  },
  {
   "cell_type": "markdown",
   "metadata": {},
   "source": [
    "### Naming Conventions\n",
    "\n",
    "When naming variables, it's an important skill to make clear, concise, and meaningful variable names. This will help your peers and your future self.\n",
    "\n",
    "Here are some guidelines to follow:\n",
    "\n",
    "- Use clear, human-readable names like `userName` or `shoppingCart`.\n",
    "- Avoid using cryptic abbreviations or single-letter names like `a`, `b`, or `c`, unless it’s absolutely clear what they mean.\n",
    "- Strive for names that are both descriptive and to the point. Generic names like `data` or `value` don’t provide much insight.\n",
    "- Stick to consistent terminology. If you refer to someone on your site as a “user,” stay consistent with terms like `currentUser` or `newUser` instead of changing it up with something like `currentVisitor`.\n",
    "\n",
    "Here are some examples:"
   ]
  },
  {
   "cell_type": "code",
   "execution_count": null,
   "metadata": {
    "vscode": {
     "languageId": "javascript"
    }
   },
   "outputs": [],
   "source": [
    "// BAD: unclear and too generic\n",
    "let a = 30;\n",
    "let data = \"John Doe\";\n",
    "let value = true;\n",
    "\n",
    "// GOOD: descriptive and clear\n",
    "let userAge = 30;\n",
    "let userName = \"John Doe\";\n",
    "let isUserLoggedIn = true;\n",
    "\n",
    "// BAD: abbreviations and short names\n",
    "let usrNm = \"Jane\";\n",
    "let c = 100;\n",
    "let t = new Date();\n",
    "\n",
    "// GOOD: human-readable and consistent\n",
    "let customerName = \"Jane\";\n",
    "let cartTotal = 100;\n",
    "let currentDate = new Date();\n",
    "\n",
    "// BAD: inconsistent terminology\n",
    "let visitorId = 123;\n",
    "let currentVisitor = \"John\";\n",
    "let siteMember = \"Jane\";\n",
    "\n",
    "// GOOD: consistent and concise\n",
    "let userId = 123;\n",
    "let currentUser = \"John\";\n",
    "let newUser = \"Jane\";\n"
   ]
  }
 ],
 "metadata": {
  "kernelspec": {
   "display_name": "Python 3 (ipykernel)",
   "language": "python",
   "name": "python3"
  },
  "language_info": {
   "codemirror_mode": {
    "name": "ipython",
    "version": 3
   },
   "file_extension": ".py",
   "mimetype": "text/x-python",
   "name": "python",
   "nbconvert_exporter": "python",
   "pygments_lexer": "ipython3",
   "version": "3.10.12"
  }
 },
 "nbformat": 4,
 "nbformat_minor": 2
}
