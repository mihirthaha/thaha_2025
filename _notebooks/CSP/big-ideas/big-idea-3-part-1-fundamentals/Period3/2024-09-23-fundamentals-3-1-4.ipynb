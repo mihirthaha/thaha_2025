{
 "cells": [
  {
   "cell_type": "raw",
   "metadata": {
    "vscode": {
     "languageId": "raw"
    }
   },
   "source": [
    "---\n",
    "toc: false\n",
    "comments: true\n",
    "layout: post\n",
    "title: 3.1.4 Javascript Hacks\n",
    "description: These are the hacks students are required to complete to demonstrate understanding of the content.\n",
    "permalink: /csp/big-idea/p3/3-1-4\n",
    "categories: [CSP Big Ideas]\n",
    "author:  Ahaan, Spencer, Vasanth, Xavier\n",
    "menu: nav/csp_units/csp_unit3_p3_fundamentals.html\n",
    "---"
   ]
  },
  {
   "cell_type": "markdown",
   "metadata": {},
   "source": [
    "### Hack 1: Naming Variables for User Profile\n",
    "You need to create a user profile using appropriate variable names that reflect the data they hold. The profile includes the user's full name, age, email, and account balance.\n",
    "\n",
    "#### Requirements:\n",
    "- Use clear, descriptive variable names for full name, age, email, and account balance.\n",
    "- Assign realistic values to each variable.\n",
    "- Display the information using `console.log()` in a sentence like: \n",
    "  `\"John Doe, aged 30, can be contacted at johndoe@example.com and has a balance of $1500 in his account.\"`\n",
    "\n"
   ]
  },
  {
   "cell_type": "markdown",
   "metadata": {},
   "source": [
    "## Hack 2\n",
    "You're managing a store's product inventory. Create variables that store information about two products, including their names, stock quantities, and prices. Use good naming conventions for each variable.\n",
    "\n",
    "Requirements:\n",
    "- Create variables for `productName1`, `productPrice1`, `productStock1`, and similarly for a second product.\n",
    "- Assign meaningful values to each.\n",
    "- Output a message that describes each product’s stock and price, such as: `\"The store has 10 units of Laptops priced at $1200 each.\"`"
   ]
  },
  {
   "cell_type": "markdown",
   "metadata": {},
   "source": [
    "## Hack 3\n",
    "Write a program that calculates the total price of an order after tax. Use descriptive variable names to represent item price, quantity, tax rate, and total price after tax.\n",
    "\n",
    "Requirements:\n",
    "- Use meaningful variable names (make sure they use camelCase)\n",
    "- Calculate the total price after tax and store it in totalPriceAfterTax.\n",
    "- Print out a message like: `\"The total price for 3 items each priced at $20 with a tax rate of 10% is $66.\"`"
   ]
  }
 ],
 "metadata": {
  "language_info": {
   "name": "python"
  }
 },
 "nbformat": 4,
 "nbformat_minor": 2
}
